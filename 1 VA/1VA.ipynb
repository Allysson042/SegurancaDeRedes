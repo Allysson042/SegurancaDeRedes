{
 "cells": [
  {
   "attachments": {
   },
   "cell_type": "markdown",
   "metadata": {
    "collapsed": false
   },
   "source": [
    "<span style='font-size:large'>**4 CIFRA DE HILL 2X2**</span>\n",
    "\n"
   ]
  },
  {
   "cell_type": "code",
   "execution_count": 11,
   "metadata": {
    "collapsed": false
   },
   "outputs": [
   ],
   "source": [
    "ptbr_alphabet = \"abcdefghijklmnopqrstuvwxyz \""
   ]
  },
  {
   "cell_type": "code",
   "execution_count": 12,
   "metadata": {
    "collapsed": false
   },
   "outputs": [
   ],
   "source": [
    "def char_to_num(c):\n",
    "    return ptbr_alphabet.index(c.lower()) + 1"
   ]
  },
  {
   "cell_type": "code",
   "execution_count": 13,
   "metadata": {
    "collapsed": false
   },
   "outputs": [
   ],
   "source": [
    "def num_to_char(x):\n",
    "    return ptbr_alphabet[x % 27]"
   ]
  },
  {
   "cell_type": "code",
   "execution_count": 14,
   "metadata": {
    "collapsed": false
   },
   "outputs": [
   ],
   "source": [
    "def inverseMatrix(M):\n",
    "    return M^-1"
   ]
  },
  {
   "cell_type": "code",
   "execution_count": 0,
   "metadata": {
    "collapsed": false
   },
   "outputs": [
   ],
   "source": [
   ]
  },
  {
   "cell_type": "code",
   "execution_count": 15,
   "metadata": {
    "collapsed": false
   },
   "outputs": [
   ],
   "source": [
    "def determinantMatrix(M):\n",
    "    return M.det()"
   ]
  },
  {
   "cell_type": "code",
   "execution_count": 16,
   "metadata": {
    "collapsed": false
   },
   "outputs": [
   ],
   "source": [
    "def HillEncrypt(M, plainText):\n",
    "    txt_encrip = \"\"\n",
    "    \n",
    "    if(len(plainText) % 2 != 0):\n",
    "        plainText += \" \"\n",
    "        \n",
    "    for i in range(0, (len(plainText)- 1), 2):\n",
    "        #transformando os caracteres em numeros\n",
    "        x = char_to_num(plainText[i])\n",
    "        y = char_to_num(plainText[i+1])\n",
    "                \n",
    "        #criando segunda matriz\n",
    "        M2 = matrix([[x],[y]])\n",
    "        \n",
    "        mensagem_codificada = M * M2\n",
    "\n",
    "        \n",
    "        txt_encrip += str(num_to_char(mensagem_codificada[0][0] - 1))\n",
    "        txt_encrip += str(num_to_char(mensagem_codificada[1][0] - 1))\n",
    "\n",
    "    print(txt_encrip)\n",
    "    return txt_encrip"
   ]
  },
  {
   "cell_type": "code",
   "execution_count": 17,
   "metadata": {
    "collapsed": false
   },
   "outputs": [
   ],
   "source": [
    "def HillDecrypt(M, plainText):\n",
    "    txt_decrip = \"\"\n",
    "    inverse = inverseMatrix(M)\n",
    "    \n",
    "    for i in range(0, (len(plainText)- 1), 2):\n",
    "        #transformando os caracteres em numeros\n",
    "        x = char_to_num(plainText[i])\n",
    "        y = char_to_num(plainText[i+1])\n",
    "                \n",
    "        #criando segunda matriz\n",
    "        M2 = matrix([[x],[y]])\n",
    "        \n",
    "        mensagem_codificada = inverse * M2\n",
    "  \n",
    "        txt_decrip += str(num_to_char(mensagem_codificada[0][0] - 1))\n",
    "        txt_decrip += str(num_to_char(mensagem_codificada[1][0] - 1))\n",
    "       \n",
    "    \n",
    "    print(txt_decrip)\n",
    "          \n",
    "    return txt_decrip"
   ]
  },
  {
   "cell_type": "code",
   "execution_count": 28,
   "metadata": {
    "collapsed": false
   },
   "outputs": [
    {
     "ename": "TypeError",
     "evalue": "only integer scalar arrays can be converted to a scalar index",
     "output_type": "error",
     "traceback": [
      "\u001b[0;31m---------------------------------------------------------------------------\u001b[0m",
      "\u001b[0;31mTypeError\u001b[0m                                 Traceback (most recent call last)",
      "\u001b[0;32m/tmp/ipykernel_867/2216986455.py\u001b[0m in \u001b[0;36m<cell line: 3>\u001b[0;34m()\u001b[0m\n\u001b[1;32m      1\u001b[0m \u001b[0mkey\u001b[0m \u001b[0;34m=\u001b[0m \u001b[0mmatrix\u001b[0m\u001b[0;34m(\u001b[0m\u001b[0;34m[\u001b[0m\u001b[0;34m[\u001b[0m\u001b[0;36m2\u001b[0m\u001b[0;34m,\u001b[0m \u001b[0;36m1\u001b[0m\u001b[0;34m]\u001b[0m\u001b[0;34m,\u001b[0m\u001b[0;34m[\u001b[0m\u001b[0;34m-\u001b[0m\u001b[0;36m6\u001b[0m\u001b[0;34m,\u001b[0m \u001b[0;36m4\u001b[0m\u001b[0;34m]\u001b[0m\u001b[0;34m]\u001b[0m\u001b[0;34m)\u001b[0m\u001b[0;34m;\u001b[0m\u001b[0;34m\u001b[0m\u001b[0;34m\u001b[0m\u001b[0m\n\u001b[1;32m      2\u001b[0m \u001b[0;34m\u001b[0m\u001b[0m\n\u001b[0;32m----> 3\u001b[0;31m \u001b[0mtxt_encript\u001b[0m \u001b[0;34m=\u001b[0m \u001b[0mHillEncrypt\u001b[0m\u001b[0;34m(\u001b[0m\u001b[0mkey\u001b[0m\u001b[0;34m,\u001b[0m\u001b[0;34m\"testando cifra de hill\"\u001b[0m\u001b[0;34m)\u001b[0m\u001b[0;34m\u001b[0m\u001b[0;34m\u001b[0m\u001b[0m\n\u001b[0m",
      "\u001b[0;32m/tmp/ipykernel_867/1205280664.py\u001b[0m in \u001b[0;36mHillEncrypt\u001b[0;34m(M, plainText)\u001b[0m\n\u001b[1;32m     16\u001b[0m \u001b[0;34m\u001b[0m\u001b[0m\n\u001b[1;32m     17\u001b[0m \u001b[0;34m\u001b[0m\u001b[0m\n\u001b[0;32m---> 18\u001b[0;31m         \u001b[0mtxt_encrip\u001b[0m \u001b[0;34m+=\u001b[0m \u001b[0mstr\u001b[0m\u001b[0;34m(\u001b[0m\u001b[0mnum_to_char\u001b[0m\u001b[0;34m(\u001b[0m\u001b[0mmensagem_codificada\u001b[0m\u001b[0;34m[\u001b[0m\u001b[0;36m0\u001b[0m\u001b[0;34m]\u001b[0m\u001b[0;34m[\u001b[0m\u001b[0;36m0\u001b[0m\u001b[0;34m]\u001b[0m \u001b[0;34m-\u001b[0m \u001b[0;36m1\u001b[0m\u001b[0;34m)\u001b[0m\u001b[0;34m)\u001b[0m\u001b[0;34m\u001b[0m\u001b[0;34m\u001b[0m\u001b[0m\n\u001b[0m\u001b[1;32m     19\u001b[0m         \u001b[0mtxt_encrip\u001b[0m \u001b[0;34m+=\u001b[0m \u001b[0mstr\u001b[0m\u001b[0;34m(\u001b[0m\u001b[0mnum_to_char\u001b[0m\u001b[0;34m(\u001b[0m\u001b[0mmensagem_codificada\u001b[0m\u001b[0;34m[\u001b[0m\u001b[0;36m1\u001b[0m\u001b[0;34m]\u001b[0m\u001b[0;34m[\u001b[0m\u001b[0;36m0\u001b[0m\u001b[0;34m]\u001b[0m \u001b[0;34m-\u001b[0m \u001b[0;36m1\u001b[0m\u001b[0;34m)\u001b[0m\u001b[0;34m)\u001b[0m\u001b[0;34m\u001b[0m\u001b[0;34m\u001b[0m\u001b[0m\n\u001b[1;32m     20\u001b[0m \u001b[0;34m\u001b[0m\u001b[0m\n",
      "\u001b[0;32m/tmp/ipykernel_867/999005139.py\u001b[0m in \u001b[0;36mnum_to_char\u001b[0;34m(x)\u001b[0m\n\u001b[1;32m      1\u001b[0m \u001b[0;32mdef\u001b[0m \u001b[0mnum_to_char\u001b[0m\u001b[0;34m(\u001b[0m\u001b[0mx\u001b[0m\u001b[0;34m)\u001b[0m\u001b[0;34m:\u001b[0m\u001b[0;34m\u001b[0m\u001b[0;34m\u001b[0m\u001b[0m\n\u001b[0;32m----> 2\u001b[0;31m     \u001b[0;32mreturn\u001b[0m \u001b[0mptbr_alphabet\u001b[0m\u001b[0;34m[\u001b[0m\u001b[0mx\u001b[0m \u001b[0;34m%\u001b[0m \u001b[0;36m27\u001b[0m\u001b[0;34m]\u001b[0m\u001b[0;34m\u001b[0m\u001b[0;34m\u001b[0m\u001b[0m\n\u001b[0m",
      "\u001b[0;31mTypeError\u001b[0m: only integer scalar arrays can be converted to a scalar index"
     ]
    }
   ],
   "source": [
    "key = matrix([[2, 1],[-6, 4]]);\n",
    "\n",
    "txt_encript = HillEncrypt(key,\"testando cifra de hill\")"
   ]
  },
  {
   "cell_type": "code",
   "execution_count": 24,
   "metadata": {
    "collapsed": false
   },
   "outputs": [
    {
     "ename": "NameError",
     "evalue": "name 'txt_encript' is not defined",
     "output_type": "error",
     "traceback": [
      "\u001b[0;31m---------------------------------------------------------------------------\u001b[0m",
      "\u001b[0;31mNameError\u001b[0m                                 Traceback (most recent call last)",
      "\u001b[0;32m/tmp/ipykernel_867/3113807415.py\u001b[0m in \u001b[0;36m<cell line: 1>\u001b[0;34m()\u001b[0m\n\u001b[0;32m----> 1\u001b[0;31m \u001b[0mtxt_decript\u001b[0m \u001b[0;34m=\u001b[0m \u001b[0mHillDecrypt\u001b[0m\u001b[0;34m(\u001b[0m\u001b[0mkey\u001b[0m\u001b[0;34m,\u001b[0m\u001b[0mtxt_encript\u001b[0m\u001b[0;34m)\u001b[0m\u001b[0;34m\u001b[0m\u001b[0;34m\u001b[0m\u001b[0m\n\u001b[0m",
      "\u001b[0;31mNameError\u001b[0m: name 'txt_encript' is not defined"
     ]
    }
   ],
   "source": [
    "txt_decript = HillDecrypt(key,txt_encript)"
   ]
  },
  {
   "cell_type": "markdown",
   "metadata": {
    "collapsed": false
   },
   "source": [
    "<span style='font-size:large'>**6 Encontre o inverso multiplicativo de cada elemento diferente de zero em Z5**</span><span style='font-size:large'> </span>\n"
   ]
  },
  {
   "cell_type": "code",
   "execution_count": 1,
   "metadata": {
    "collapsed": false
   },
   "outputs": [
    {
     "name": "stdout",
     "output_type": "stream",
     "text": [
      "Elemento | Inverso Multiplicativo\n",
      "------------------------------\n",
      "    1          |          1\n",
      "    2          |          3\n",
      "    3          |          2\n",
      "    4          |          4\n"
     ]
    }
   ],
   "source": [
    "def encontrar_inversos_multiplicativos(modulo):\n",
    "    inversos = {}\n",
    "    for elemento in range(1, modulo):\n",
    "        for candidato in range(1, modulo):\n",
    "            if (elemento * candidato) % modulo == 1:\n",
    "                inversos[elemento] = candidato\n",
    "                break\n",
    "\n",
    "    return inversos\n",
    "\n",
    "# Modulo para Z5\n",
    "modulo_z5 = 5\n",
    "\n",
    "# Encontrar inversos multiplicativos em Z5\n",
    "inversos_z5 = encontrar_inversos_multiplicativos(modulo_z5)\n",
    "\n",
    "# Exibir resultados\n",
    "print(\"Elemento | Inverso Multiplicativo\")\n",
    "print(\"-\" * 30)\n",
    "for elemento, inverso in inversos_z5.items():\n",
    "    print(f\"    {elemento}          |          {inverso}\")\n"
   ]
  },
  {
   "cell_type": "markdown",
   "metadata": {
    "collapsed": false
   },
   "source": [
    "<span style='font-size:large'>**7 Para a aritmética de polinômios com coeficientes em Z10, realize os seguintes cálculos:** </span>\n"
   ]
  },
  {
   "cell_type": "code",
   "execution_count": 3,
   "metadata": {
    "collapsed": false
   },
   "outputs": [
    {
     "name": "stdout",
     "output_type": "stream",
     "text": [
      "-x^2 + 7*x - 3\n"
     ]
    }
   ],
   "source": [
    "# Define the symbolic variable x\n",
    "var('x')\n",
    "\n",
    "# Define the given expression\n",
    "expression = expand((7*x + 2) - (x^2 + 5))\n",
    "\n",
    "# Print the result\n",
    "print(expression)"
   ]
  },
  {
   "cell_type": "code",
   "execution_count": 2,
   "metadata": {
    "collapsed": false
   },
   "outputs": [
    {
     "name": "stdout",
     "output_type": "stream",
     "text": [
      "30*x^4 + 5*x^3 + 27*x^2 + 2*x + 6\n"
     ]
    }
   ],
   "source": [
    "# Define the symbolic variable x\n",
    "var('x')\n",
    "#(6x^2 + x + 3) × (5x^2 + 2)\n",
    "# Define the given expression\n",
    "expression = expand((6*x^2 + x + 3) * (5*x^2 + 2))\n",
    "\n",
    "# Print the result\n",
    "print(expression)"
   ]
  },
  {
   "cell_type": "markdown",
   "metadata": {
    "collapsed": false
   },
   "source": [
    "<span style='font-size:large'>**8 Use a chave 1010 0111 0011 1011 para encriptar o texto claro \"ok\"conforme expresso em ASCII, ou seja, 0110 1111 0110 1011. Os projetistas do S\\-AES obtiveram o texto cifrado 0000 0111 0011 1000. E você?** </span>\n"
   ]
  },
  {
   "cell_type": "code",
   "execution_count": 4,
   "metadata": {
    "collapsed": false
   },
   "outputs": [
    {
     "name": "stdout",
     "output_type": "stream",
     "text": [
      "11000011\n"
     ]
    }
   ],
   "source": [
    "# Define a função para encriptar o texto claro usando a chave\n",
    "def encriptar(chave, texto_claro):\n",
    "    # Converter o texto claro para binário\n",
    "    texto_binario = bin(texto_claro)[2:].zfill(16)\n",
    "    \n",
    "    # Verificar se o texto binário tem o tamanho correto\n",
    "    if len(texto_binario) != 16:\n",
    "        raise ValueError(\"O texto claro deve ter 16 bits\")\n",
    "    \n",
    "    # Converter a chave para binário\n",
    "    chave_binario = bin(chave)[2:].zfill(16)\n",
    "    \n",
    "    # Realizar a permutação inicial\n",
    "    p1 = [2, 6, 3, 1, 4, 8, 5, 7]\n",
    "    texto_p1 = ''.join(texto_binario[i-1] for i in p1)\n",
    "    \n",
    "    # Aplicar a operação XOR entre o texto e a chave\n",
    "    texto_xor = bin(int(texto_p1, 2) ^ int(chave_binario, 2))[2:].zfill(8)\n",
    "    \n",
    "    # Realizar a permutação final\n",
    "    p2 = [4, 1, 3, 5, 7, 2, 8, 6]\n",
    "    texto_cifrado = ''.join(texto_xor[i-1] for i in p2)\n",
    "    \n",
    "    return texto_cifrado\n",
    "\n",
    "# Utilizar a chave e o texto fornecidos para obter o texto cifrado\n",
    "chave = 0b1010011100111011\n",
    "texto_claro = 0b110111101101011\n",
    "\n",
    "\n",
    "texto_cifrado_esperado = \"0000011100111000\"\n",
    "texto_cifrado_obtido = encriptar(chave, texto_claro)\n",
    "\n",
    "# Verificar se o texto cifrado obtido coincide com o texto cifrado esperado\n",
    "texto_cifrado_esperado == texto_cifrado_obtido\n",
    "print(texto_cifrado_obtido)"
   ]
  },
  {
   "cell_type": "markdown",
   "metadata": {
    "collapsed": false
   },
   "source": [
    "<span style='font-size:large'>**10. Calcule a saída da transformação MixColumns para a seguinte sequência de bytes de entrada \"67 89 AB CD\". Aplique a transformação InvMixColumns ao resultado obtido para verificar seus cálculos. Altere o primeiro byte da entrada de \"67\"para \"77\", realize a transformação MixColumns novamente para a nova entrada e determine quantos bits mudaram na saída.** </span>\n"
   ]
  },
  {
   "cell_type": "code",
   "execution_count": 29,
   "metadata": {
    "collapsed": false
   },
   "outputs": [
    {
     "name": "stdout",
     "output_type": "stream",
     "text": [
      "MixColumns:\n",
      "33 \n",
      "B9 \n",
      "DF \n",
      "8D \n",
      "\n",
      "InvMixColumns:\n",
      "9F \n",
      "69 \n",
      "2B \n",
      "35 \n",
      "\n",
      "MixColumns (Atualizado):\n",
      "13 \n",
      "A9 \n",
      "CF \n",
      "DD \n",
      "\n",
      "Quantidade de bits diferentes na saída: 144\n"
     ]
    }
   ],
   "source": [
    "import numpy as np\n",
    "\n",
    "def mix_columns(state):\n",
    "    # Matriz de mistura para MixColumns\n",
    "    mix_matrix = np.array([\n",
    "        [0x02, 0x03, 0x01, 0x01],\n",
    "        [0x01, 0x02, 0x03, 0x01],\n",
    "        [0x01, 0x01, 0x02, 0x03],\n",
    "        [0x03, 0x01, 0x01, 0x02]\n",
    "    ], dtype=np.uint8)\n",
    "\n",
    "    result = np.zeros_like(state)\n",
    "\n",
    "    for i in range(4):\n",
    "        for j in range(4):\n",
    "            result[i] ^= mix_matrix[i, j] * state[j]\n",
    "\n",
    "    return result\n",
    "\n",
    "def inv_mix_columns(state):\n",
    "    # Matriz de mistura inversa para InvMixColumns\n",
    "    inv_mix_matrix = np.array([\n",
    "        [0x0e, 0x0b, 0x0d, 0x09],\n",
    "        [0x09, 0x0e, 0x0b, 0x0d],\n",
    "        [0x0d, 0x09, 0x0e, 0x0b],\n",
    "        [0x0b, 0x0d, 0x09, 0x0e]\n",
    "    ], dtype=np.uint8)\n",
    "\n",
    "    result = np.zeros_like(state)\n",
    "\n",
    "    for i in range(4):\n",
    "        for j in range(4):\n",
    "            result[i] ^= inv_mix_matrix[i, j] * state[j]\n",
    "\n",
    "    return result\n",
    "\n",
    "def print_bytes(matrix):\n",
    "    for row in matrix:\n",
    "        for val in row:\n",
    "            print(f\"{val:02X}\", end=\" \")\n",
    "        print()\n",
    "\n",
    "# entrada\n",
    "input_bytes = np.array([0x67, 0x89, 0xAB, 0xCD], dtype=np.uint8).reshape(4, 1)\n",
    "\n",
    "# Passo 1: MixColumns\n",
    "mix_columns_result = mix_columns(input_bytes)\n",
    "print(\"MixColumns:\")\n",
    "print_bytes(mix_columns_result)\n",
    "print()\n",
    "\n",
    "# Passo 2: InvMixColumns\n",
    "inv_mix_columns_result = inv_mix_columns(mix_columns_result)\n",
    "print(\"InvMixColumns:\")\n",
    "print_bytes(inv_mix_columns_result)\n",
    "print()\n",
    "\n",
    "# Altere o primeiro byte para 0x77\n",
    "input_bytes[0] = 0x77\n",
    "\n",
    "# Passo 3: MixColumns novamente\n",
    "mix_columns_result_updated = mix_columns(input_bytes)\n",
    "print(\"MixColumns (Atualizado):\")\n",
    "print_bytes(mix_columns_result_updated)\n",
    "print()\n",
    "\n",
    "# Determinar quantos bits mudaram na saída\n",
    "bit_diff_count = np.sum(np.bitwise_xor(mix_columns_result, mix_columns_result_updated))\n",
    "print(f\"Quantidade de bits diferentes na saída: {bit_diff_count}\")\n"
   ]
  }
 ],
 "metadata": {
  "kernelspec": {
   "argv": [
    "/usr/bin/python3",
    "-m",
    "ipykernel",
    "--HistoryManager.enabled=False",
    "--matplotlib=inline",
    "-c",
    "%config InlineBackend.figure_formats = set(['retina'])\nimport matplotlib; matplotlib.rcParams['figure.figsize'] = (12, 7)",
    "-f",
    "{connection_file}"
   ],
   "display_name": "Python 3 (system-wide)",
   "env": {
   },
   "language": "python",
   "metadata": {
    "cocalc": {
     "description": "Python 3 programming language",
     "priority": 100,
     "url": "https://www.python.org/"
    }
   },
   "name": "python3",
   "resource_dir": "/ext/jupyter/kernels/python3"
  },
  "language_info": {
   "codemirror_mode": {
    "name": "ipython",
    "version": 3
   },
   "file_extension": ".py",
   "mimetype": "text/x-python",
   "name": "python",
   "nbconvert_exporter": "python",
   "pygments_lexer": "ipython3",
   "version": "3.11.1"
  }
 },
 "nbformat": 4,
 "nbformat_minor": 4
}