{
   "cell_type": "code",
   "execution_count": 3,
   "metadata": {
    "collapsed": false
   },
   "outputs": [
   ],
   "source": [
    "def encrypt(m, chave_publica):\n",
    "    #pow()calcula exponenciação modular\n",
    "    C = pow(m, chave_publica.e, chave_publica.n) #c = m^e mod n\n",
    "    print(\"C = {0}\".format(C))\n",
    "    \n",
    "    return C"
   ]
  },
  {
   "cell_type": "code",
   "execution_count": 4,
   "metadata": {
    "collapsed": false
   },
   "outputs": [
   ],
   "source": [
    "def decrypt(c, chave_privada):\n",
    "    M = pow(c, chave_privada.d, chave_privada.n) #m = c^d mod n\n",
    "    print(\"M = {0}\".format(M))\n",
    "    \n",
    "    return M"
   ]
  },
  {
   "cell_type": "code",
   "execution_count": 5,
   "metadata": {
    "collapsed": false
   },
   "outputs": [
   ],
   "source": [
    "def gerar_chaves(p, q, e):\n",
    "    #Calcule n = p × q\n",
    "    n = p * q\n",
    "    \n",
    "    #Calcule phi(n) = (p – 1)(q – 1)\n",
    "    phi_n = (p - 1)*(q - 1)\n",
    "    \n",
    "    #Selecione o inteiro e *recebido por parametro\n",
    "    \n",
    "    #Calcule d = e−1 (mod f(n))    \n",
    "    d = xgcd(e, phi_n)[1] % phi_n\n",
    "    \n",
    "    #chave_publica \n",
    "    chave_publica = Chave_publica(e, n)\n",
    "    #chave_privada \n",
    "    chave_privada = Chave_privada(d, n)    \n",
    "    \n",
    "    return chave_publica, chave_privada"
   ]
  },
  {
   "cell_type": "markdown",
   "metadata": {
    "collapsed": false
   },
   "source": [
    "**\\(a\\) p = 3; q = 11, e = 7; M = 5;**\n"
   ]
  },
  {
   "cell_type": "code",
   "execution_count": 6,
   "metadata": {
    "collapsed": false
   },
   "outputs": [
    {
     "name": "stdout",
     "output_type": "stream",
     "text": [
      "Chave Publica:\n",
      "e = 7 n = 33\n",
      "\n",
      "Chave Privada:\n",
      "d = 3 n = 33\n"
     ]
    }
   ],
   "source": [
    "chave_publica, chave_privada = gerar_chaves(3,11,7)\n",
    "print(\"Chave Publica:\\ne = {0} n = {1}\\n\\nChave Privada:\\nd = {2} n = {3}\".format(chave_publica.e, chave_publica.n, chave_privada.d,chave_privada.n))"
   ]
  },
  {
   "cell_type": "code",
   "execution_count": 7,
   "metadata": {
    "collapsed": false
   },
   "outputs": [
    {
     "name": "stdout",
     "output_type": "stream",
     "text": [
      "C = 14\n"
     ]
    }
   ],
   "source": [
    "M = 5\n",
    "C = encrypt(M, chave_publica)"
   ]
  },
  {
   "cell_type": "code",
   "execution_count": 8,
   "metadata": {
    "collapsed": false
   },
   "outputs": [
    {
     "name": "stdout",
     "output_type": "stream",
     "text": [
      "M = 5\n"
     ]
    }
   ],
   "source": [
    "M = decrypt(C, chave_privada)"
   ]
  },
  {
   "cell_type": "markdown",
   "metadata": {
    "collapsed": false
   },
   "source": [
    "**\\(b\\) p = 5; q = 11, e = 3; M = 9;**\n",
    "\n"
   ]
  },
  {
   "cell_type": "code",
   "execution_count": 9,
   "metadata": {
    "collapsed": false
   },
   "outputs": [
    {
     "name": "stdout",
     "output_type": "stream",
     "text": [
      "C = 14\n",
      "M = 9\n"
     ]
    }
   ],
   "source": [
    "chave_publica, chave_privada = gerar_chaves(5, 11, 3)\n",
    "M = 9\n",
    "C = encrypt(M, chave_publica)\n",
    "M = decrypt(C, chave_privada)"
   ]
  },
  {
   "cell_type": "markdown",
   "metadata": {
    "collapsed": false
   },
   "source": [
    "**\\(c\\) p = 7; q = 11, e = 17; M = 8;**\n",
    "\n"
   ]
  },
  {
   "cell_type": "code",
   "execution_count": 10,
   "metadata": {
    "collapsed": false
   },
   "outputs": [
    {
     "name": "stdout",
     "output_type": "stream",
     "text": [
      "C = 57\n",
      "M = 8\n"
     ]
    }
   ],
   "source": [
    "chave_publica, chave_privada = gerar_chaves(7, 11, 17)\n",
    "M = 8\n",
    "C = encrypt(M, chave_publica)\n",
    "M = decrypt(C, chave_privada)"
   ]
  },
  {
   "cell_type": "markdown",
   "metadata": {
    "collapsed": false
   },
   "source": [
    "**\\(d\\) p = 11; q = 13, e = 11; M = 7;**\n",
    "\n"
   ]
  },
  {
   "cell_type": "code",
   "execution_count": 68,
   "metadata": {
    "collapsed": false
   },
   "outputs": [
    {
     "name": "stdout",
     "output_type": "stream",
     "text": [
      "C = 106\n",
      "M = 7\n"
     ]
    }
   ],
   "source": [
    "chave_publica, chave_privada = gerar_chaves(11, 13, 11)\n",
    "M = 7\n",
    "C = encrypt(M, chave_publica)\n",
    "M = decrypt(C, chave_privada)"
   ]
  },
  {
   "cell_type": "markdown",
   "metadata": {
    "collapsed": false
   },
   "source": [
    "**\\(e\\) p = 17; q = 31, e = 7; M = 2.**\n",
    "\n"
   ]
  },
  {
   "cell_type": "code",
   "execution_count": 69,
   "metadata": {
    "collapsed": false
   },
   "outputs": [
    {
     "name": "stdout",
     "output_type": "stream",
     "text": [
      "C = 128\n",
      "M = 2\n"
     ]
    }
   ],
   "source": [
    "chave_publica, chave_privada = gerar_chaves(17, 31, 7)\n",
    "M = 2\n",
    "C = encrypt(M, chave_publica)\n",
    "M = decrypt(C, chave_privada)"
   ]
  },
  {
   "cell_type": "markdown",
   "metadata": {
    "collapsed": false
   },
   "source": [
    "**7. Em um sistema de chave pública usando RSA, você intercepta o texto cifrado C = 10 enviado a um usuário cuja chave pública é e = 5, n = 35. Qual é o texto claro M?**\n",
    "\n"
   ]
  },
  {
   "cell_type": "code",
   "execution_count": 81,
   "metadata": {
    "collapsed": false
   },
   "outputs": [
   ],
   "source": [
    "def decrypt_public(c, chave_publica):\n",
    "    M = pow(c, chave_publica.e, chave_publica.n) #m = c^e mod n\n",
    "    print(\"M = {0}\".format(M))\n",
    "    \n",
    "    return M"
   ]
  },
  {
   "cell_type": "code",
   "execution_count": 83,
   "metadata": {
    "collapsed": false
   },
   "outputs": [
    {
     "name": "stdout",
     "output_type": "stream",
     "text": [
      "M = 5\n"
     ]
    }
   ],
   "source": [
    "chave_publica = Chave_publica(5, 35)\n",
    "M = decrypt_public(C, chave_publica)"
   ]
  },
  {
   "cell_type": "markdown",
   "metadata": {
    "collapsed": false
   },
   "source": [
    "\\-\\-\\-\\-\\-\\-\\-\\-\\-\\-\\-\\-\\-\\-\\-\\-\\-\\-\\-\\-\\-\\-\\-\\-\\-\\-\\-\\-\\-\\-\\-\\-\\-\\-\n",
    "\n"
   ]
  },
  {
   "cell_type": "markdown",
   "metadata": {
    "collapsed": false
   },
   "source": [
    "Links úteis:\n",
    "\n",
    "[https://doc.sagemath.org/html/en/thematic\\_tutorials/numtheory\\_rsa.html](https://doc.sagemath.org/html/en/thematic_tutorials/numtheory_rsa.html) \n",
    "\n",
    "[https://nmsl.cs.nthu.edu.tw/wp\\-content/uploads/2011/09/images\\_courses\\_CS3330\\_2015\\_Sage3\\_RSA.pdf](https://nmsl.cs.nthu.edu.tw/wp-content/uploads/2011/09/images_courses_CS3330_2015_Sage3_RSA.pdf) \n",
    "\n",
    "[https://kidskangla.wordpress.com/2019/07/18/rsa\\-signature\\-in\\-sagemath/](https://kidskangla.wordpress.com/2019/07/18/rsa-signature-in-sagemath/) \n",
    "\n"
   ]
  },
  {
   "cell_type": "code",
   "execution_count": 0,
   "metadata": {
    "collapsed": false
   },
   "outputs": [
   ],
   "source": [
   ]
  },
  {
   "cell_type": "code",
   "execution_count": 0,
   "metadata": {
    "collapsed": false
   },
   "outputs": [
   ],
   "source": [
   ]
  }
 ],
 "metadata": {
  "kernelspec": {
   "argv": [
    "sage-10.0",
    "--python",
    "-m",
    "sage.repl.ipython_kernel",
    "--matplotlib=inline",
    "-f",
    "{connection_file}"
   ],
   "display_name": "SageMath 10.0",
   "env": {
   },
   "language": "sagemath",
   "metadata": {
    "cocalc": {
     "description": "Open-source mathematical software system",
     "priority": 10,
     "url": "https://www.sagemath.org/"
    }
   },
   "name": "sage-10.0",
   "resource_dir": "/ext/jupyter/kernels/sage-10.0"
  },
  "language_info": {
   "codemirror_mode": {
    "name": "ipython",
    "version": 3
   },
   "file_extension": ".py",
   "mimetype": "text/x-python",
   "name": "python",
   "nbconvert_exporter": "python",
   "pygments_lexer": "ipython3",
   "version": "3.11.1"
  }
 },
 "nbformat": 4,
 "nbformat_minor": 4
}
