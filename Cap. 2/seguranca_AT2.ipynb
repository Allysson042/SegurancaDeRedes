{
  "nbformat": 4,
  "nbformat_minor": 0,
  "metadata": {
    "colab": {
      "provenance": []
    },
    "kernelspec": {
      "name": "python3",
      "display_name": "Python 3"
    },
    "language_info": {
      "name": "python"
    }
  },
  "cells": [
    {
      "cell_type": "markdown",
      "source": [
        "##4 Cifra de César"
      ],
      "metadata": {
        "id": "MCM0LWegT3Mt"
      }
    },
    {
      "cell_type": "code",
      "execution_count": null,
      "metadata": {
        "colab": {
          "base_uri": "https://localhost:8080/"
        },
        "id": "5GAIvU7lTIAx",
        "outputId": "eb85b1fa-3c4f-45f1-e3a4-25769abfcfa6"
      },
      "outputs": [
        {
          "output_type": "stream",
          "name": "stdout",
          "text": [
            "Cifrada:  whvwdqgr d fliud gh fhvdu\n",
            "Decifrada:  testando a cifra de cesar\n"
          ]
        }
      ],
      "source": [
        "\n",
        "def cifra_de_cesar(texto, chave):\n",
        "    texto_cifrado = \"\"\n",
        "    for letra in texto:\n",
        "        if letra.isalpha():\n",
        "            letra_cifrada = chr(((ord(letra) - ord('a') + chave) % 26) + ord('a'))\n",
        "            texto_cifrado += letra_cifrada\n",
        "        else:\n",
        "            texto_cifrado += letra\n",
        "    return texto_cifrado\n",
        "\n",
        "def decifra_cesar(texto_cifrado, chave):\n",
        "    return cifra_de_cesar(texto_cifrado, -chave)\n",
        "\n",
        "\n",
        "\n",
        "original = \"testando a cifra de cesar\"\n",
        "chave = 3\n",
        "cifrada = cifra_de_cesar(original, chave)\n",
        "decifrada = decifra_cesar(cifrada, chave)\n",
        "\n",
        "print(\"Cifrada: \", cifrada)\n",
        "print(\"Decifrada: \", decifrada)\n"
      ]
    },
    {
      "cell_type": "markdown",
      "source": [
        "##5"
      ],
      "metadata": {
        "id": "U8uWqVSAT_U0"
      }
    },
    {
      "cell_type": "code",
      "source": [],
      "metadata": {
        "id": "iqLNNlnEU0wl"
      },
      "execution_count": null,
      "outputs": []
    }
  ]
}