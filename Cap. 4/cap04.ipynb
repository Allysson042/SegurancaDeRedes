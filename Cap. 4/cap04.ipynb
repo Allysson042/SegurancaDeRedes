{
  "nbformat": 4,
  "nbformat_minor": 0,
  "metadata": {
    "colab": {
      "provenance": []
    },
    "kernelspec": {
      "name": "python3",
      "display_name": "Python 3"
    },
    "language_info": {
      "name": "python"
    }
  },
  "cells": [
    {
      "cell_type": "markdown",
      "source": [
        "## 3\n",
        "\n"
      ],
      "metadata": {
        "id": "oAIKTZ_2ZeTr"
      }
    },
    {
      "cell_type": "code",
      "source": [
        "\n",
        "import math\n",
        "\n",
        "def congruencia_linear(a, b, m):\n",
        "    # Verifica se a e m são primos entre si\n",
        "    if math.gcd(a, m) != 1:\n",
        "        raise ValueError(\"A congruência não tem solução.\")\n",
        "\n",
        "    # Calcula o inverso multiplicativo de a módulo m\n",
        "    a_inverso = pow(a, -1, m)\n",
        "\n",
        "    # Calcula a solução para x\n",
        "    x = (b * a_inverso) % m\n",
        "\n",
        "    return x\n"
      ],
      "metadata": {
        "id": "beOFT0mpatls"
      },
      "execution_count": null,
      "outputs": []
    },
    {
      "cell_type": "code",
      "source": [
        "a = 5\n",
        "b = 4\n",
        "m = 3\n",
        "\n",
        "resultado = congruencia_linear(a, b, m)\n",
        "print(f\"A solução para {a}x ≡ {b} (mod {m}) é x ≡ {resultado} (mod {m}).\")"
      ],
      "metadata": {
        "colab": {
          "base_uri": "https://localhost:8080/"
        },
        "id": "9A6zdDVebElc",
        "outputId": "e96623eb-23f3-41ec-ece2-3e25b191af74"
      },
      "execution_count": null,
      "outputs": [
        {
          "output_type": "stream",
          "name": "stdout",
          "text": [
            "A solução para 5x ≡ 4 (mod 3) é x ≡ 2 (mod 3).\n"
          ]
        }
      ]
    },
    {
      "cell_type": "code",
      "source": [
        "a = 7\n",
        "b = 6\n",
        "m = 5\n",
        "\n",
        "resultado = congruencia_linear(a, b, m)\n",
        "print(f\"A solução para {a}x ≡ {b} (mod {m}) é x ≡ {resultado} (mod {m}).\")"
      ],
      "metadata": {
        "colab": {
          "base_uri": "https://localhost:8080/"
        },
        "id": "gxyRkGUrbImj",
        "outputId": "7cc7a9fa-ad2f-48f4-9270-969d4bee8067"
      },
      "execution_count": null,
      "outputs": [
        {
          "output_type": "stream",
          "name": "stdout",
          "text": [
            "A solução para 7x ≡ 6 (mod 5) é x ≡ 3 (mod 5).\n"
          ]
        }
      ]
    },
    {
      "cell_type": "code",
      "source": [
        "a = 9\n",
        "b = 8\n",
        "m = 7\n",
        "\n",
        "resultado = congruencia_linear(a, b, m)\n",
        "print(f\"A solução para {a}x ≡ {b} (mod {m}) é x ≡ {resultado} (mod {m}).\")"
      ],
      "metadata": {
        "colab": {
          "base_uri": "https://localhost:8080/"
        },
        "id": "47q5N29SbLZ7",
        "outputId": "06a9f038-1f36-40b4-9059-ede36dab92c2"
      },
      "execution_count": null,
      "outputs": [
        {
          "output_type": "stream",
          "name": "stdout",
          "text": [
            "A solução para 9x ≡ 8 (mod 7) é x ≡ 4 (mod 7).\n"
          ]
        }
      ]
    },
    {
      "cell_type": "markdown",
      "source": [
        "## 4"
      ],
      "metadata": {
        "id": "DbWXCTZ8bkwe"
      }
    },
    {
      "cell_type": "code",
      "source": [
        "def encontrar_inversos_multiplicativos(modulo):\n",
        "    inversos = {}\n",
        "    for elemento in range(1, modulo):\n",
        "        for candidato in range(1, modulo):\n",
        "            if (elemento * candidato) % modulo == 1:\n",
        "                inversos[elemento] = candidato\n",
        "                break\n",
        "\n",
        "    return inversos\n",
        "\n",
        "# Modulo para Z5\n",
        "modulo_z5 = 5\n",
        "\n",
        "# Encontrar inversos multiplicativos em Z5\n",
        "inversos_z5 = encontrar_inversos_multiplicativos(modulo_z5)\n",
        "\n",
        "# Exibir resultados\n",
        "print(\"Elemento | Inverso Multiplicativo\")\n",
        "print(\"-\" * 30)\n",
        "for elemento, inverso in inversos_z5.items():\n",
        "    print(f\"    {elemento}          |          {inverso}\")\n"
      ],
      "metadata": {
        "colab": {
          "base_uri": "https://localhost:8080/"
        },
        "id": "4L3pTq8kbmG7",
        "outputId": "0851f4d9-4776-40e0-db46-473aa84c8deb"
      },
      "execution_count": null,
      "outputs": [
        {
          "output_type": "stream",
          "name": "stdout",
          "text": [
            "Elemento | Inverso Multiplicativo\n",
            "------------------------------\n",
            "    1          |          1\n",
            "    2          |          3\n",
            "    3          |          2\n",
            "    4          |          4\n"
          ]
        }
      ]
    },
    {
      "cell_type": "markdown",
      "source": [
        "##5"
      ],
      "metadata": {
        "id": "8k9bHLW0bsNb"
      }
    },
    {
      "cell_type": "code",
      "source": [
        "def mdc(a, b):\n",
        "    while b:\n",
        "        a, b = b, a % b\n",
        "    return a\n",
        "\n",
        "# def mdc2(a,b):\n",
        "#   if(a % b = 0):\n",
        "#     return a\n",
        "#   return mdc2(b,a % b)\n",
        "\n",
        "\n",
        "\n",
        "num1 = 24140\n",
        "num2 = 16762\n",
        "\n",
        "\n",
        "resultado = mdc(num1, num2)\n",
        "\n",
        "\n",
        "print(f\"MDC({num1}, {num2})= {resultado}\")\n"
      ],
      "metadata": {
        "colab": {
          "base_uri": "https://localhost:8080/"
        },
        "id": "X8TTCzBabtJb",
        "outputId": "8d546646-179d-43e0-edf9-78afdc3af0c7"
      },
      "execution_count": null,
      "outputs": [
        {
          "output_type": "stream",
          "name": "stdout",
          "text": [
            "MDC(24140, 16762)= 34\n"
          ]
        }
      ]
    },
    {
      "cell_type": "code",
      "source": [
        "num1 = 4655\n",
        "num2 = 12075\n",
        "\n",
        "resultado = mdc(num1, num2)\n",
        "\n",
        "print(f\"MDC({num1}, {num2})= {resultado}\")"
      ],
      "metadata": {
        "colab": {
          "base_uri": "https://localhost:8080/"
        },
        "id": "uCSCKs9ycFwL",
        "outputId": "2ea7063f-e802-4693-f88a-6b39d5a9ce07"
      },
      "execution_count": null,
      "outputs": [
        {
          "output_type": "stream",
          "name": "stdout",
          "text": [
            "MDC(4655, 12075)= 35\n"
          ]
        }
      ]
    },
    {
      "cell_type": "markdown",
      "source": [
        "##6"
      ],
      "metadata": {
        "id": "iVt0AOHmcfcu"
      }
    },
    {
      "cell_type": "code",
      "source": [
        "def euclides_estendido(a, b):\n",
        "    if a == 0:\n",
        "        return b, 0, 1\n",
        "    else:\n",
        "        mdc, x, y = euclides_estendido(b % a, a)\n",
        "        return mdc, y - (b // a) * x, x\n",
        "\n",
        "def encontrar_inverso_multiplicativo(a, modulo):\n",
        "    mdc, x, y = euclides_estendido(a, modulo)\n",
        "    if mdc != 1:\n",
        "        print(f\"{a} não tem inverso multiplicativo módulo {modulo}\")\n",
        "        return None\n",
        "    else:\n",
        "        return x % modulo\n",
        "\n",
        "\n",
        "num = 1234\n",
        "modulo = 4321\n",
        "\n",
        "inverso = encontrar_inverso_multiplicativo(num, modulo)\n",
        "\n",
        "print(f\"{num} MOD {modulo} = {inverso}\")\n"
      ],
      "metadata": {
        "colab": {
          "base_uri": "https://localhost:8080/"
        },
        "id": "nSy4J6hgcg-j",
        "outputId": "c8d1645e-8b06-4b16-9f7b-d5428845ef3d"
      },
      "execution_count": null,
      "outputs": [
        {
          "output_type": "stream",
          "name": "stdout",
          "text": [
            "1234 MOD 4321 = 3239\n"
          ]
        }
      ]
    },
    {
      "cell_type": "code",
      "source": [
        "num = 24140\n",
        "modulo = 40902\n",
        "\n",
        "inverso = encontrar_inverso_multiplicativo(num, modulo)\n",
        "\n",
        "print(f\"{num} MOD {modulo} = {inverso}\")\n"
      ],
      "metadata": {
        "colab": {
          "base_uri": "https://localhost:8080/"
        },
        "id": "A9A4P-CFcqB7",
        "outputId": "de5cafce-4929-41bd-a358-fb0d36059924"
      },
      "execution_count": null,
      "outputs": [
        {
          "output_type": "stream",
          "name": "stdout",
          "text": [
            "24140 não tem inverso multiplicativo módulo 40902\n",
            "24140 MOD 40902 = None\n"
          ]
        }
      ]
    },
    {
      "cell_type": "code",
      "source": [
        "num = 550\n",
        "modulo = 1769\n",
        "\n",
        "inverso = encontrar_inverso_multiplicativo(num, modulo)\n",
        "\n",
        "print(f\"{num} MOD {modulo} = {inverso}\")"
      ],
      "metadata": {
        "colab": {
          "base_uri": "https://localhost:8080/"
        },
        "id": "H5c1_3Wzc6Kj",
        "outputId": "6dba2c07-2ba9-484a-a873-2c1c90abff94"
      },
      "execution_count": null,
      "outputs": [
        {
          "output_type": "stream",
          "name": "stdout",
          "text": [
            "550 MOD 1769 = 550\n"
          ]
        }
      ]
    }
  ]
}